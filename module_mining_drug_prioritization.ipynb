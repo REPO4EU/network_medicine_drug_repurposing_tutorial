{
 "cells": [
  {
   "cell_type": "markdown",
   "id": "b67a3d88-94af-4db0-a60b-26b5fb5ddc01",
   "metadata": {},
   "source": [
    "# Hands-on disease module mining and drug prioritization"
   ]
  },
  {
   "cell_type": "markdown",
   "id": "0361e41c-71ce-4bc9-a2bf-791f4159df18",
   "metadata": {},
   "source": [
    "## Packages"
   ]
  },
  {
   "cell_type": "code",
   "execution_count": 1,
   "id": "6b1146a9-611c-45a3-af25-654a30dafc91",
   "metadata": {},
   "outputs": [],
   "source": [
    "import networkx as nx\n",
    "import graph_tool as gt\n",
    "import graph_tool.util as gtu\n",
    "import graph_tool.topology as gtt\n",
    "import graph_tool.centrality as gtc\n",
    "import subprocess\n",
    "import pandas as pd"
   ]
  },
  {
   "cell_type": "markdown",
   "id": "f9b8f5a9-7687-467f-8e39-5ceefaf5b8ed",
   "metadata": {},
   "source": [
    "## NetworkX vs graph-tool\n",
    "\n",
    "### NetworkX\n",
    "- https://networkx.org/\n",
    "- **Pros:** widely used, tons of functions\n",
    "- **Con:** mostly Python all the way down and thus slow\n",
    "\n",
    "### graph-tool\n",
    "- https://graph-tool.skewed.de/\n",
    "- **Pro:** C++ backend (partly with OpenMP parallelization) and thus fast\n",
    "- **Cons:** less widely used, fewer functions\n",
    "\n",
    "**In this tutorial, we will show you how to use both of them**"
   ]
  },
  {
   "cell_type": "markdown",
   "id": "54c3dc36-0159-4a79-a462-5f8c546d8527",
   "metadata": {},
   "source": [
    "## Task 1: Run disease module mining algorithms\n",
    "-  Run the ROBUST algorithm with default parameters on the HD seeds and the PPI network provided in `data/NeDRex_api/`.\n",
    "-  Use the `subprocess.run()` functions to run the command line interface.\n",
    "-  Save the resulting disease module to `results/hd_module_robust.csv`.\n",
    "-  Do the same for DIAMOnD and set the `n` parameter such that the size of the resulting disease module is identical to the disease module computed by ROBUST.\n",
    "-  Save the resulting disease module to `results/hd_module_robust.csv`."
   ]
  },
  {
   "cell_type": "markdown",
   "id": "df91a509-3103-4a38-908b-d479bf560aac",
   "metadata": {},
   "source": [
    "## Solutions to Task 1 "
   ]
  },
  {
   "cell_type": "markdown",
   "id": "59dfabfa-61b0-49fc-943d-473e48bfd597",
   "metadata": {},
   "source": [
    "### Run ROBUST"
   ]
  },
  {
   "cell_type": "code",
   "execution_count": 2,
   "id": "722b7309-bd33-4899-a8f5-8aa3185e563d",
   "metadata": {},
   "outputs": [
    {
     "name": "stdout",
     "output_type": "stream",
     "text": [
      "stderr: None\n",
      "Computed module with 15 seeds and 60 non-seeds\n"
     ]
    }
   ],
   "source": [
    "result = subprocess.run(\n",
    "    [\n",
    "        'python3', 'robust.py', # Call to command line interface\n",
    "        '../data/NeDRex_api/seed_genes_huntingtons_disease.csv', # Path to file with newline-separated seeds\n",
    "        '../results/hd_module_robust.csv', # Path to output file\n",
    "        '--network', '../data/NeDRex_api/filtered_ppi_only_reviewed_proteins_solution.csv', # Path to file with PPI network edge list\n",
    "        '--namespace', 'UNIPROT' # Tell the tool that node IDs are UNIPROT IDs\n",
    "    ],\n",
    "    cwd='robust_bias_aware/'\n",
    ")\n",
    "print(f'stderr: {result.stderr}')\n",
    "module_robust = pd.read_csv('results/hd_module_robust.csv')\n",
    "print(f'Computed module with {len(module_robust[module_robust.terminal])} seeds and {len(module_robust[~module_robust.terminal])} non-seeds')"
   ]
  },
  {
   "cell_type": "markdown",
   "id": "90f90d9b-36df-4dd9-8651-2f91ea863320",
   "metadata": {},
   "source": [
    "### Run DIAMOnD (set-up to return module of equal size)"
   ]
  },
  {
   "cell_type": "code",
   "execution_count": 3,
   "id": "d32edeba-8cd7-4d99-92ff-6e551cdaeaa1",
   "metadata": {},
   "outputs": [
    {
     "name": "stderr",
     "output_type": "stream",
     "text": [
      "/Users/dbblumenthal/teaching/courses/netmed-tutorial/DIAMOnD/DIAMOnD.py:180: SyntaxWarning: invalid escape sequence '\\s'\n",
      "  p-val = \\sum_{n=kb}^{k} HypergemetricPDF(n,k,N,s)\n"
     ]
    },
    {
     "name": "stdout",
     "output_type": "stream",
     "text": [
      "DIAMOnD(): ignoring 2 of 17 seed genes that are not in the network\n",
      "\n",
      " results have been saved to '../results/hd_module_diamond.tsv' \n",
      "\n",
      "stderr: None\n"
     ]
    },
    {
     "name": "stderr",
     "output_type": "stream",
     "text": [
      "/Users/dbblumenthal/teaching/courses/netmed-tutorial/DIAMOnD/DIAMOnD.py:412: DeprecationWarning: Conversion of an array with ndim > 0 to a scalar is deprecated, and will error in future. Ensure you extract a single element from your array before performing this operation. (Deprecated NumPy 1.25.)\n",
      "  p = float(DIAMOnD_node_info[3])\n"
     ]
    }
   ],
   "source": [
    "result = subprocess.run(\n",
    "    [\n",
    "        'python3', 'DIAMOnD.py', # Call to command line interface\n",
    "        '../data/NeDRex_api/filtered_ppi_only_reviewed_proteins_solution.csv', # Path to file with PPI network edge list\n",
    "        '../data/NeDRex_api/seed_genes_huntingtons_disease.csv', # Path to file with newline-separated seeds\n",
    "        '58', # Number of non-seed nodes in disease module needs to be set explicitly\n",
    "        '../results/hd_module_diamond.tsv' # Path to output file\n",
    "    ],\n",
    "    cwd='DIAMOnD/'\n",
    ")\n",
    "print(f'stderr: {result.stderr}')\n",
    "module_diamond = pd.read_csv('results/hd_module_diamond.tsv', sep='\\t')"
   ]
  },
  {
   "cell_type": "markdown",
   "id": "cbc9d600-e6cc-4a52-9f53-3821a6b4524f",
   "metadata": {},
   "source": [
    "## Task 2: Inspect disaese modules with NetworkX and graph-tool\n",
    "- Compute the following summary statistics for the disease modules computed by ROBUST and DIAMOnD:\n",
    "     - Number of nodes.\n",
    "     - Number of edges.\n",
    "     - Density.\n",
    "     - Number of connected components.\n",
    "     - Average node degree.\n",
    "     - Average node betweenness centrality.\n",
    "- Provide both NetworkX and graph-tool implementations.\n",
    "- Explain the observed differences between ROBUST and DIAMOnD disease modules."
   ]
  },
  {
   "cell_type": "markdown",
   "id": "dc9ddc71-ae8c-4dc4-84ec-7a49a8fddffd",
   "metadata": {},
   "source": [
    "## Solutions to Task 2"
   ]
  },
  {
   "cell_type": "markdown",
   "id": "232798c7-d287-4ffa-aa01-d966f9566f8c",
   "metadata": {},
   "source": [
    "### Load PPI network with NetworkX"
   ]
  },
  {
   "cell_type": "code",
   "execution_count": 4,
   "id": "c56dee9a-62d0-4b0b-b4fa-456ca42be511",
   "metadata": {},
   "outputs": [
    {
     "name": "stdout",
     "output_type": "stream",
     "text": [
      "Loaded PPI network with 12797 nodes and 95916 edges\n"
     ]
    }
   ],
   "source": [
    "ppin_nx = nx.read_edgelist('data/NeDRex_api/filtered_ppi_only_reviewed_proteins_solution.csv', delimiter=',')\n",
    "print(f'Loaded PPI network with {nx.number_of_nodes(ppin_nx)} nodes and {nx.number_of_edges(ppin_nx)} edges')"
   ]
  },
  {
   "cell_type": "code",
   "execution_count": 5,
   "id": "df210883-da35-4035-b1a8-f193b6f3f258",
   "metadata": {},
   "outputs": [
    {
     "data": {
      "text/plain": [
       "'P15927'"
      ]
     },
     "execution_count": 5,
     "metadata": {},
     "output_type": "execute_result"
    }
   ],
   "source": [
    "# Nodes are indexed with strings corresponding to IDs in input file\n",
    "list(ppin_nx.nodes)[0]"
   ]
  },
  {
   "cell_type": "markdown",
   "id": "7d6b07da-d842-4cdc-a2c2-3354cbea192d",
   "metadata": {},
   "source": [
    "### Load PPI network with graph-tool"
   ]
  },
  {
   "cell_type": "code",
   "execution_count": 6,
   "id": "1c3247f8-05d4-40c8-aa02-c4b664f6e386",
   "metadata": {},
   "outputs": [
    {
     "name": "stdout",
     "output_type": "stream",
     "text": [
      "Loaded PPI network with 12797 nodes and 95916 edges\n"
     ]
    }
   ],
   "source": [
    "ppin_gt = gt.load_graph_from_csv('data/NeDRex_api/filtered_ppi_only_reviewed_proteins_solution.csv')\n",
    "print(f'Loaded PPI network with {ppin_gt.num_vertices()} nodes and {ppin_gt.num_edges()} edges')"
   ]
  },
  {
   "cell_type": "code",
   "execution_count": 7,
   "id": "66fdc9f4-f654-4ee7-af86-dbb9b00b3dda",
   "metadata": {},
   "outputs": [
    {
     "data": {
      "text/plain": [
       "'P15927'"
      ]
     },
     "execution_count": 7,
     "metadata": {},
     "output_type": "execute_result"
    }
   ],
   "source": [
    "# Nodes are indexed with integers from 0 to num_nodes - 1\n",
    "# String node IDs from input file are stored in 'name' vertex property map\n",
    "ppin_gt.vp['name'][ppin_gt.vertex(0)]"
   ]
  },
  {
   "cell_type": "markdown",
   "id": "53b7fe3d-62d2-4833-9467-8383f68b1e1a",
   "metadata": {},
   "source": [
    "### Project DIAMOnD module on NetworkX and graph-tool graphs"
   ]
  },
  {
   "cell_type": "markdown",
   "id": "1eec845f-d123-4365-856b-2c74c76613d9",
   "metadata": {},
   "source": [
    "#### Load seeds (not contained in output of DIAMOnD) and kick out seeds not in PPI network"
   ]
  },
  {
   "cell_type": "code",
   "execution_count": 8,
   "id": "86a34d6a-d5aa-4c3c-8fb8-cff013a19f96",
   "metadata": {},
   "outputs": [],
   "source": [
    "with open('data/NeDRex_api/seed_genes_huntingtons_disease.csv') as fp:\n",
    "    seeds = fp.read().splitlines()\n",
    "seeds = [seed for seed in seeds if ppin_nx.has_node(seed)]"
   ]
  },
  {
   "cell_type": "markdown",
   "id": "e9d7a73e-c334-4e3f-8450-fe906342934e",
   "metadata": {},
   "source": [
    "#### Project DIAMOnD and ROBUST modules on NetworkX graph"
   ]
  },
  {
   "cell_type": "code",
   "execution_count": 9,
   "id": "6486c46e-1de6-4e95-97d1-837280857240",
   "metadata": {},
   "outputs": [],
   "source": [
    "# DIAMOnD (seeds not contained in module file)\n",
    "nx.set_node_attributes(ppin_nx, False, name='in_diamond_module')\n",
    "for node in module_diamond.DIAMOnD_node:\n",
    "    ppin_nx.nodes[node]['in_diamond_module'] = True\n",
    "for seed in seeds:\n",
    "    ppin_nx.nodes[seed]['in_diamond_module'] = True\n",
    "module_diamond_nx = ppin_nx.subgraph([n for n, d in ppin_nx.nodes(data=True) if d['in_diamond_module']]).copy()\n",
    "\n",
    "# ROBUST (seeds contained in module file)\n",
    "nx.set_node_attributes(ppin_nx, False, name='in_robust_module')\n",
    "for node in module_robust.vertex:\n",
    "    ppin_nx.nodes[node]['in_robust_module'] = True\n",
    "module_robust_nx = ppin_nx.subgraph([n for n, d in ppin_nx.nodes(data=True) if d['in_robust_module']]).copy()"
   ]
  },
  {
   "cell_type": "markdown",
   "id": "ad07e4ad-e4a2-4ed3-be57-06c4c68a2044",
   "metadata": {},
   "source": [
    "#### Project DIAMOnD and ROBUST modules on graph-tool graph"
   ]
  },
  {
   "cell_type": "code",
   "execution_count": 10,
   "id": "82422d06-572d-421b-a8dd-eda9060cff99",
   "metadata": {},
   "outputs": [],
   "source": [
    "# Lookup table to get node IDs from protein names\n",
    "node_name_to_id = {ppin_gt.vp['name'][node]: node for node in ppin_gt.vertices()}\n",
    "\n",
    "# DIAMOnD (seeds not contained in module file)\n",
    "in_diamond_module = ppin_gt.new_vp('boolean', val=False)\n",
    "for node in module_diamond.DIAMOnD_node:\n",
    "    in_diamond_module[node_name_to_id[node]] = True\n",
    "for seed in seeds:\n",
    "    in_diamond_module[node_name_to_id[seed]] = True\n",
    "ppin_gt.vp['in_diamond_module'] = in_diamond_module\n",
    "module_diamond_gt = gt.GraphView(ppin_gt, vfilt=ppin_gt.vp['in_diamond_module'])\n",
    "\n",
    "# ROBUST (seeds contained in module file)\n",
    "in_robust_module = ppin_gt.new_vp('boolean', val=False)\n",
    "for node in module_robust.vertex:\n",
    "    in_robust_module[node_name_to_id[node]] = True\n",
    "ppin_gt.vp['in_robust_module'] = in_robust_module\n",
    "module_robust_gt = gt.GraphView(ppin_gt, vfilt=ppin_gt.vp['in_robust_module'])"
   ]
  },
  {
   "cell_type": "markdown",
   "id": "9d7d88d0-9d3d-4fca-812f-647ed58365fc",
   "metadata": {},
   "source": [
    "### Functions to compute module statistics with NetworkX and graph-tool"
   ]
  },
  {
   "cell_type": "code",
   "execution_count": 27,
   "id": "fa0ae7e1-f459-4dd8-9950-ab3a2d6640a3",
   "metadata": {},
   "outputs": [],
   "source": [
    "def nx_summary_stats(module: nx.Graph):\n",
    "    \"\"\"\n",
    "    Compute summary and average node-level statistics for a NetworkX subgraph (module).\n",
    "    \"\"\"\n",
    "    n_nodes = module.number_of_nodes()\n",
    "    n_edges = module.number_of_edges()\n",
    "    density = nx.density(module)\n",
    "    n_components = nx.number_connected_components(module)\n",
    "\n",
    "    # Node-level averages\n",
    "    avg_degree = sum(dict(module.degree()).values()) / n_nodes if n_nodes > 0 else 0\n",
    "    betweenness = nx.betweenness_centrality(module) if n_nodes > 0 else {}\n",
    "    avg_betweenness = sum(betweenness.values()) / n_nodes if n_nodes > 0 else 0\n",
    "\n",
    "    return {\n",
    "        \"n_nodes\": n_nodes,\n",
    "        \"n_edges\": n_edges,\n",
    "        \"density\": density,\n",
    "        \"n_components\": n_components,\n",
    "        \"avg_degree\": avg_degree,\n",
    "        \"avg_betweenness\": avg_betweenness\n",
    "    }"
   ]
  },
  {
   "cell_type": "code",
   "execution_count": 31,
   "id": "38683527-a760-4d9b-9a8c-686323ba622f",
   "metadata": {},
   "outputs": [],
   "source": [
    "def gt_summary_stats(module):\n",
    "    \"\"\"\n",
    "    Compute summary and average node-level statistics for a graph-tool subgraph (module).\n",
    "    \"\"\"\n",
    "    n_nodes = module.num_vertices()\n",
    "    n_edges = module.num_edges()\n",
    "    density = (2 * n_edges) / (n_nodes * (n_nodes - 1)) if n_nodes > 1 else 0\n",
    "\n",
    "    # Connected components\n",
    "    comp, hist = gtt.label_components(module)\n",
    "    n_components = len(hist)\n",
    "\n",
    "    # Node-level averages\n",
    "    degrees = [v.out_degree() for v in module.vertices()]\n",
    "    avg_degree = sum(degrees) / n_nodes if n_nodes > 0 else 0\n",
    "\n",
    "    if n_nodes > 0:\n",
    "        vb, _ = gtc.betweenness(module)\n",
    "        avg_betweenness = sum(vb[v] for v in module.vertices()) / n_nodes\n",
    "    else:\n",
    "        avg_betweenness = 0\n",
    "\n",
    "    return {\n",
    "        \"n_nodes\": n_nodes,\n",
    "        \"n_edges\": n_edges,\n",
    "        \"density\": density,\n",
    "        \"n_components\": n_components,\n",
    "        \"avg_degree\": avg_degree,\n",
    "        \"avg_betweenness\": avg_betweenness,\n",
    "    }"
   ]
  },
  {
   "cell_type": "markdown",
   "id": "a6890299-c08c-41e0-b023-a08e44998284",
   "metadata": {},
   "source": [
    "### Compute summary statistics for ROBUST and DIAMOnD modules with graph-tool and NetworkX"
   ]
  },
  {
   "cell_type": "code",
   "execution_count": 33,
   "id": "7e67ccaa-3bd7-4f3b-be14-083823dc03b3",
   "metadata": {},
   "outputs": [
    {
     "data": {
      "text/plain": [
       "{'n_nodes': 73,\n",
       " 'n_edges': 134,\n",
       " 'density': 0.05098934550989345,\n",
       " 'n_components': 1,\n",
       " 'avg_degree': 3.671232876712329,\n",
       " 'avg_betweenness': 0.03835187686239201}"
      ]
     },
     "execution_count": 33,
     "metadata": {},
     "output_type": "execute_result"
    }
   ],
   "source": [
    "nx_summary_stats(module_robust_nx)"
   ]
  },
  {
   "cell_type": "code",
   "execution_count": 29,
   "id": "77a8c08c-b1ba-438e-9776-4419a0a5785e",
   "metadata": {},
   "outputs": [
    {
     "data": {
      "text/plain": [
       "{'n_nodes': 73,\n",
       " 'n_edges': 349,\n",
       " 'density': 0.1328006088280061,\n",
       " 'n_components': 11,\n",
       " 'avg_degree': 9.561643835616438,\n",
       " 'avg_betweenness': 0.0101989409822711}"
      ]
     },
     "execution_count": 29,
     "metadata": {},
     "output_type": "execute_result"
    }
   ],
   "source": [
    "nx_summary_stats(module_diamond_nx)"
   ]
  },
  {
   "cell_type": "code",
   "execution_count": 34,
   "id": "9403a723-cc95-4aa1-a2d6-783527e35958",
   "metadata": {},
   "outputs": [
    {
     "data": {
      "text/plain": [
       "{'n_nodes': 73,\n",
       " 'n_edges': 134,\n",
       " 'density': 0.05098934550989345,\n",
       " 'n_components': 1,\n",
       " 'avg_degree': 3.671232876712329,\n",
       " 'avg_betweenness': 0.038351876862392005}"
      ]
     },
     "execution_count": 34,
     "metadata": {},
     "output_type": "execute_result"
    }
   ],
   "source": [
    "gt_summary_stats(module_robust_gt)"
   ]
  },
  {
   "cell_type": "code",
   "execution_count": 32,
   "id": "4c80d621-bbc2-41ef-8804-8857dd79be46",
   "metadata": {},
   "outputs": [
    {
     "data": {
      "text/plain": [
       "{'n_nodes': 73,\n",
       " 'n_edges': 349,\n",
       " 'density': 0.1328006088280061,\n",
       " 'n_components': 11,\n",
       " 'avg_degree': 9.561643835616438,\n",
       " 'avg_betweenness': 0.0101989409822711}"
      ]
     },
     "execution_count": 32,
     "metadata": {},
     "output_type": "execute_result"
    }
   ],
   "source": [
    "gt_summary_stats(module_diamond_gt)"
   ]
  },
  {
   "cell_type": "markdown",
   "id": "fa0ce9ef-4762-420b-937d-f79e0a53954f",
   "metadata": {},
   "source": [
    "## Task 3: Prioritize drugs based on DIAMOnD and ROBUST modules\n",
    "\n",
    "- Load the drug-protein interaction data from `data/NeDrex_api/pdi_solutions.csv` and map it to the PPI network.\n",
    "- Ensure to add only those drug-protein interactions where the involved protein is contained in the PPI network.\n",
    "- Run TrustRank (a.k.a. personalized PageRank) on the integrated protein-protein-drug interaction network to prioritize drugs targeting the ROBUST and DIAMOnD disease modules.\n",
    "- Display the top 10 ranked drugs for both the ROBUST and the DIAMOnD module.\n",
    "- Provide both NetworkX and graph-tool implementations. Measure runtimes of both implementations."
   ]
  },
  {
   "cell_type": "markdown",
   "id": "d035d80b-1d3f-482a-8fcc-6aa9e557b8bb",
   "metadata": {
    "jp-MarkdownHeadingCollapsed": true
   },
   "source": [
    "## Solution to Task 3"
   ]
  },
  {
   "cell_type": "markdown",
   "id": "7f04bf5f-fab7-4057-874f-28652dd87bf4",
   "metadata": {
    "jp-MarkdownHeadingCollapsed": true
   },
   "source": [
    "### Preparation: load PDI data into pandas data frame"
   ]
  },
  {
   "cell_type": "code",
   "execution_count": 58,
   "id": "30673213-9f0f-4838-be1e-b8885dafae28",
   "metadata": {},
   "outputs": [],
   "source": [
    "pdi = pd.read_csv('data/NeDRex_api/pdi_solution.csv', header=None)\n",
    "new_edges = [(pdi.loc[i,0],pdi.loc[i,1]) for i in range(pdi.shape[0]) if ppin_nx.has_node(pdi.loc[i,1])]\n",
    "new_nodes = set(pdi.loc[i,0] for i in range(pdi.shape[0]) if ppin_nx.has_node(pdi.loc[i,1]))"
   ]
  },
  {
   "cell_type": "markdown",
   "id": "c680ccba-5f9e-4459-b925-2450608257d4",
   "metadata": {
    "jp-MarkdownHeadingCollapsed": true
   },
   "source": [
    "### NetworkX implementation"
   ]
  },
  {
   "cell_type": "markdown",
   "id": "5a737a0c-26c7-4c84-8f12-9973ec8c6f19",
   "metadata": {
    "jp-MarkdownHeadingCollapsed": true
   },
   "source": [
    "#### Map drug-protein interactions on PPI network"
   ]
  },
  {
   "cell_type": "code",
   "execution_count": 60,
   "id": "04ed4fb7-df32-44f6-a422-ef1a8fe5c53d",
   "metadata": {},
   "outputs": [],
   "source": [
    "ppi_pdi_nx = ppin_nx.copy()\n",
    "nx.set_node_attributes(ppi_pdi_nx, 'protein', name='node_type')\n",
    "ppi_pdi_nx.add_nodes_from(new_nodes, node_type='drug', in_robust_module=False, in_diamond_module=False)\n",
    "ppi_pdi_nx.add_edges_from(new_edges)"
   ]
  },
  {
   "cell_type": "markdown",
   "id": "57436449-b8b5-4dd1-9210-1e7e2eba8d4d",
   "metadata": {
    "jp-MarkdownHeadingCollapsed": true
   },
   "source": [
    "#### Run personalized PageRank for ROBUST and DIAMOnD modules"
   ]
  },
  {
   "cell_type": "code",
   "execution_count": 142,
   "id": "e319e4c4-2808-4273-ac6e-74d9ede5cace",
   "metadata": {},
   "outputs": [
    {
     "name": "stdout",
     "output_type": "stream",
     "text": [
      "139 ms ± 3.59 ms per loop (mean ± std. dev. of 7 runs, 10 loops each)\n"
     ]
    }
   ],
   "source": [
    "%%timeit\n",
    "personalization_robust = {n: 1.0 if d['in_robust_module'] else 0 for n, d in ppi_pdi_nx.nodes(data=True)}\n",
    "pageranks_robust = nx.pagerank(ppi_pdi_nx, personalization=personalization_robust)\n",
    "ranked_drugs_robust = sorted([(n, pageranks_robust[n]) for n, d in ppi_pdi_nx.nodes(data=True) if d['node_type'] == 'drug'], \n",
    "                             key = lambda t: t[1], reverse=True)"
   ]
  },
  {
   "cell_type": "code",
   "execution_count": 143,
   "id": "6390e81e-8082-4215-b21d-44529273edd2",
   "metadata": {},
   "outputs": [
    {
     "name": "stdout",
     "output_type": "stream",
     "text": [
      "136 ms ± 799 μs per loop (mean ± std. dev. of 7 runs, 10 loops each)\n"
     ]
    }
   ],
   "source": [
    "%%timeit\n",
    "personalization_diamond = {n: 1.0 if d['in_diamond_module'] else 0 for n, d in ppi_pdi_nx.nodes(data=True)}\n",
    "pageranks_diamond = nx.pagerank(ppi_pdi_nx, personalization=personalization_diamond)\n",
    "ranked_drugs_diamond = sorted([(n, pageranks_diamond[n]) for n, d in ppi_pdi_nx.nodes(data=True) if d['node_type'] == 'drug'], \n",
    "                             key = lambda t: t[1], reverse=True)"
   ]
  },
  {
   "cell_type": "markdown",
   "id": "b86fb4cf-cc54-4827-a67f-ab0b6d5b2ea2",
   "metadata": {
    "jp-MarkdownHeadingCollapsed": true
   },
   "source": [
    "#### Display top 10 drugs"
   ]
  },
  {
   "cell_type": "code",
   "execution_count": 144,
   "id": "185beacd-c6b2-4be2-a65d-9f71f1aaa63e",
   "metadata": {},
   "outputs": [
    {
     "data": {
      "text/plain": [
       "[('DB04216', 0.0007292101736397119),\n",
       " ('DB00470', 0.000527720503436185),\n",
       " ('DB07159', 0.0004934666225662385),\n",
       " ('DB12010', 0.0004934666225662385),\n",
       " ('DB01268', 0.0004628558746283302),\n",
       " ('DB12500', 0.00046254921819304656),\n",
       " ('DB06595', 0.00043912009797590797),\n",
       " ('DB00675', 0.0004180963440651069),\n",
       " ('DB13245', 0.0004004847860757055),\n",
       " ('DB04224', 0.0003847886938398688)]"
      ]
     },
     "execution_count": 144,
     "metadata": {},
     "output_type": "execute_result"
    }
   ],
   "source": [
    "ranked_drugs_robust[:10]"
   ]
  },
  {
   "cell_type": "code",
   "execution_count": 145,
   "id": "e1f29e14-528c-474f-a144-c2a6430c45ed",
   "metadata": {},
   "outputs": [
    {
     "data": {
      "text/plain": [
       "[('DB00331', 0.0011310517805650537),\n",
       " ('DB04216', 0.0007047786805121389),\n",
       " ('DB12141', 0.0005570557542185867),\n",
       " ('DB00470', 0.0005290614053794234),\n",
       " ('DB07159', 0.0004739416034476785),\n",
       " ('DB12010', 0.0004739416034476785),\n",
       " ('DB12500', 0.0004340665170150399),\n",
       " ('DB01268', 0.00043328147472263337),\n",
       " ('DB13245', 0.0004055422739900139),\n",
       " ('DB04224', 0.00039372029243624326)]"
      ]
     },
     "execution_count": 145,
     "metadata": {},
     "output_type": "execute_result"
    }
   ],
   "source": [
    "ranked_drugs_diamond[:10]"
   ]
  },
  {
   "cell_type": "markdown",
   "id": "e1d59383-c5db-46cd-a7d9-61434c93ce12",
   "metadata": {
    "jp-MarkdownHeadingCollapsed": true
   },
   "source": [
    "### graph-tool implementation"
   ]
  },
  {
   "cell_type": "markdown",
   "id": "da527696-dfa3-40b5-9b0f-7054be351ce5",
   "metadata": {},
   "source": [
    "#### Map drug-protein interactions on PPI network"
   ]
  },
  {
   "cell_type": "code",
   "execution_count": 120,
   "id": "de5658ce-0a74-4063-a7a8-e4f1dc289dc9",
   "metadata": {},
   "outputs": [],
   "source": [
    "ppi_pdi_gt = ppin_gt.copy()\n",
    "ppi_pdi_gt.vp['node_type'] = ppi_pdi_gt.new_vp('string', val='protein')"
   ]
  },
  {
   "cell_type": "code",
   "execution_count": 122,
   "id": "93d13553-4260-4316-bbfe-f1344882aec8",
   "metadata": {},
   "outputs": [],
   "source": [
    "for drug in new_nodes:\n",
    "    node = ppi_pdi_gt.add_vertex()\n",
    "    ppi_pdi_gt.vp['name'][node] = drug\n",
    "    ppi_pdi_gt.vp['node_type'][node] = 'drug'\n",
    "    node_name_to_id[drug] = node\n",
    "ppi_pdi_gt.add_edge_list([(node_name_to_id[p], node_name_to_id[d]) for p, d in new_edges])"
   ]
  },
  {
   "cell_type": "markdown",
   "id": "bd7bea85-3008-49f6-b85e-e59afaf1f5ce",
   "metadata": {},
   "source": [
    "#### Run personalized PageRank for ROBUST and DIAMOnD modules"
   ]
  },
  {
   "cell_type": "code",
   "execution_count": 146,
   "id": "bc26d229-202e-442f-8f0d-e4de986c9571",
   "metadata": {},
   "outputs": [
    {
     "name": "stdout",
     "output_type": "stream",
     "text": [
      "53.9 ms ± 1.55 ms per loop (mean ± std. dev. of 7 runs, 10 loops each)\n"
     ]
    }
   ],
   "source": [
    "%%timeit \n",
    "pagerank_robust_gt = gtc.pagerank(ppi_pdi_gt, pers=ppi_pdi_gt.vp['in_robust_module'])\n",
    "ranked_drugs_robust_gt = sorted([(ppi_pdi_gt.vp['name'][i], pagerank_robust_gt[i]) for i in ppi_pdi_gt.vertices() if ppi_pdi_gt.vp['node_type'][i] == 'drug'], \n",
    "                                key = lambda t: t[1], reverse=True)"
   ]
  },
  {
   "cell_type": "code",
   "execution_count": 147,
   "id": "0114bdc1-8302-43bb-b4c0-8483e87ef467",
   "metadata": {},
   "outputs": [
    {
     "name": "stdout",
     "output_type": "stream",
     "text": [
      "52.3 ms ± 148 μs per loop (mean ± std. dev. of 7 runs, 10 loops each)\n"
     ]
    }
   ],
   "source": [
    "%%timeit\n",
    "pagerank_diamond_gt = gtc.pagerank(ppi_pdi_gt, pers=ppi_pdi_gt.vp['in_diamond_module'])\n",
    "ranked_drugs_diamond_gt = sorted([(ppi_pdi_gt.vp['name'][i], pagerank_diamond_gt[i]) for i in ppi_pdi_gt.vertices() if ppi_pdi_gt.vp['node_type'][i] == 'drug'], \n",
    "                                key = lambda t: t[1], reverse=True)"
   ]
  },
  {
   "cell_type": "markdown",
   "id": "8780341d-be6a-4a2b-aa35-a826a4b7c057",
   "metadata": {},
   "source": [
    "#### Display top 10 drugs"
   ]
  },
  {
   "cell_type": "code",
   "execution_count": 135,
   "id": "94cdc3a6-7e0d-4977-a5a3-eed4cbf174a4",
   "metadata": {},
   "outputs": [
    {
     "data": {
      "text/plain": [
       "[('DB04216', 0.05346093862679072),\n",
       " ('DB00470', 0.03937209370055734),\n",
       " ('DB07159', 0.035527038329590845),\n",
       " ('DB12010', 0.035527038329590845),\n",
       " ('DB12500', 0.03317763548862514),\n",
       " ('DB01268', 0.033166001428498564),\n",
       " ('DB06595', 0.03179446640897531),\n",
       " ('DB00675', 0.030303629626419228),\n",
       " ('DB13245', 0.029896766564815783),\n",
       " ('DB04224', 0.028695899906118857)]"
      ]
     },
     "execution_count": 135,
     "metadata": {},
     "output_type": "execute_result"
    }
   ],
   "source": [
    "ranked_drugs_robust_gt[:10]"
   ]
  },
  {
   "cell_type": "code",
   "execution_count": 138,
   "id": "240cd2b1-464a-4c04-a152-8ff32f96adf5",
   "metadata": {},
   "outputs": [
    {
     "data": {
      "text/plain": [
       "[('DB00331', 0.08336967207786936),\n",
       " ('DB04216', 0.050178410861116456),\n",
       " ('DB12141', 0.04030708076193223),\n",
       " ('DB00470', 0.03837486267674625),\n",
       " ('DB07159', 0.03333819605888466),\n",
       " ('DB12010', 0.03333819605888466),\n",
       " ('DB12500', 0.030400158305329543),\n",
       " ('DB01268', 0.030289629374345078),\n",
       " ('DB13245', 0.029481277659977264),\n",
       " ('DB04224', 0.028568623228189836)]"
      ]
     },
     "execution_count": 138,
     "metadata": {},
     "output_type": "execute_result"
    }
   ],
   "source": [
    "ranked_drugs_diamond_gt[:10]"
   ]
  }
 ],
 "metadata": {
  "kernelspec": {
   "display_name": "network_medicine_tutorial",
   "language": "python",
   "name": "network_medicine_tutorial"
  },
  "language_info": {
   "codemirror_mode": {
    "name": "ipython",
    "version": 3
   },
   "file_extension": ".py",
   "mimetype": "text/x-python",
   "name": "python",
   "nbconvert_exporter": "python",
   "pygments_lexer": "ipython3",
   "version": "3.12.11"
  }
 },
 "nbformat": 4,
 "nbformat_minor": 5
}
